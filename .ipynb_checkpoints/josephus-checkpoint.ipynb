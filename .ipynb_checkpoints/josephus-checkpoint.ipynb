{
 "cells": [
  {
   "cell_type": "markdown",
   "metadata": {},
   "source": [
    "Can an ML model solve the Josephus problem?\n",
    "\n",
    "There are n people standing in a circle waiting to be executed. \n",
    "\n",
    "The counting out begins at some point in the circle and proceeds around the circle in a fixed direction. \n",
    "\n",
    "In each step, a certain number of people are skipped (k) and the next person is executed. \n",
    "\n",
    "Where should you stand to survive? _index starts at 1, you can't stand in the 0th position_ \n",
    "\n",
    "There is no forumla, it requires recursion, so the model will only see two inputs and one output, \n",
    "<br>it won't know what's happened to produce the output, i.e. it has no context. \n",
    "\n",
    "But can it predict where to stand?"
   ]
  },
  {
   "cell_type": "code",
   "execution_count": null,
   "metadata": {},
   "outputs": [],
   "source": [
    "import pandas as pd\n",
    "import random"
   ]
  },
  {
   "cell_type": "code",
   "execution_count": 118,
   "metadata": {},
   "outputs": [],
   "source": [
    "def josephus_survivor(n, k):\n",
    "    w = 0\n",
    "    for i in range(1, n + 1): \n",
    "        w = (w + k) % i\n",
    "    return w + 1"
   ]
  },
  {
   "cell_type": "code",
   "execution_count": 230,
   "metadata": {},
   "outputs": [],
   "source": [
    "columns = ['n', 'k', 'survivor']\n",
    "index = list(range(1, 1000000))\n",
    "\n",
    "df_ = pd.DataFrame(index=index, columns=columns)\n",
    "df_ = df_.fillna(0)  # with 0s rather than NaNs"
   ]
  },
  {
   "cell_type": "code",
   "execution_count": 231,
   "metadata": {},
   "outputs": [],
   "source": [
    "ns = [random.randint(1,88) for i in range(1, 1000000)]\n",
    "ks = [random.randint(1,23) for i in range(1, 1000000)]"
   ]
  },
  {
   "cell_type": "code",
   "execution_count": 232,
   "metadata": {},
   "outputs": [],
   "source": [
    "df_['n'] = ns\n",
    "df_['k'] = ks"
   ]
  },
  {
   "cell_type": "code",
   "execution_count": null,
   "metadata": {},
   "outputs": [],
   "source": [
    "survivors = [josephus_survivor(df_.n.loc[i], df_.k.loc[i]) for i in range (1, 1000000);]"
   ]
  },
  {
   "cell_type": "code",
   "execution_count": null,
   "metadata": {},
   "outputs": [],
   "source": [
    "df_.survivor = survivors"
   ]
  },
  {
   "cell_type": "code",
   "execution_count": null,
   "metadata": {},
   "outputs": [],
   "source": [
    "df_.head(10)"
   ]
  },
  {
   "cell_type": "code",
   "execution_count": 223,
   "metadata": {},
   "outputs": [],
   "source": []
  },
  {
   "cell_type": "code",
   "execution_count": null,
   "metadata": {},
   "outputs": [],
   "source": []
  },
  {
   "cell_type": "code",
   "execution_count": null,
   "metadata": {},
   "outputs": [],
   "source": []
  }
 ],
 "metadata": {
  "kernelspec": {
   "display_name": "Python 3",
   "language": "python",
   "name": "python3"
  },
  "language_info": {
   "codemirror_mode": {
    "name": "ipython",
    "version": 3
   },
   "file_extension": ".py",
   "mimetype": "text/x-python",
   "name": "python",
   "nbconvert_exporter": "python",
   "pygments_lexer": "ipython3",
   "version": "3.8.0"
  }
 },
 "nbformat": 4,
 "nbformat_minor": 4
}
